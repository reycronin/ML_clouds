{
 "cells": [
  {
   "cell_type": "code",
   "execution_count": 34,
   "metadata": {},
   "outputs": [],
   "source": []
  },
  {
   "cell_type": "code",
   "execution_count": 35,
   "metadata": {},
   "outputs": [],
   "source": []
  },
  {
   "cell_type": "code",
   "execution_count": 36,
   "metadata": {},
   "outputs": [],
   "source": []
  },
  {
   "cell_type": "code",
   "execution_count": 37,
   "metadata": {},
   "outputs": [],
   "source": []
  },
  {
   "cell_type": "code",
   "execution_count": 39,
   "metadata": {},
   "outputs": [
    {
     "name": "stdout",
     "output_type": "stream",
     "text": [
      "Found: 100 search results. Extracting links from 0:100\n",
      "Found: 5 image links, done!\n",
      "SUCCESS - saved https://encrypted-tbn0.gstatic.com/images?q=tbn:ANd9GcSB5TtcCIrvU6xtKdKCXVG14xuWKV0X2KOCPw&usqp=CAU - as ./images/cirrus_clouds/c33aee149d.jpg\n",
      "SUCCESS - saved https://encrypted-tbn0.gstatic.com/images?q=tbn:ANd9GcQSGQEEMMNqIeDaRMAP-it72V_8yNFwgfeFgw&usqp=CAU - as ./images/cirrus_clouds/eb250e4e89.jpg\n",
      "SUCCESS - saved https://encrypted-tbn0.gstatic.com/images?q=tbn:ANd9GcSZSy60iPZIgKbME3dkGqeDx891a-P-Do_XaA&usqp=CAU - as ./images/cirrus_clouds/a16e9bdfc7.jpg\n",
      "SUCCESS - saved https://encrypted-tbn0.gstatic.com/images?q=tbn:ANd9GcTdIgn8I9rYdKSKaV-ldZpbGr4LbTY_EpdBGQ&usqp=CAU - as ./images/cirrus_clouds/5c86a4350f.jpg\n",
      "SUCCESS - saved https://encrypted-tbn0.gstatic.com/images?q=tbn:ANd9GcTbX4foL-DIE7N4eLDI0AoxEqOZxmjbzxnSag&usqp=CAU - as ./images/cirrus_clouds/4fe798c848.jpg\n"
     ]
    }
   ],
   "source": []
  },
  {
   "cell_type": "code",
   "execution_count": null,
   "metadata": {},
   "outputs": [],
   "source": []
  },
  {
   "cell_type": "code",
   "execution_count": null,
   "metadata": {},
   "outputs": [],
   "source": []
  },
  {
   "cell_type": "code",
   "execution_count": 85,
   "metadata": {},
   "outputs": [
    {
     "name": "stdout",
     "output_type": "stream",
     "text": [
      "image saved!\n"
     ]
    }
   ],
   "source": [
    "from selenium import webdriver\n",
    "import time\n",
    "import requests\n",
    "import shutil\n",
    "from PIL import Image\n",
    "import os, sys\n",
    "\n",
    "driver_path = '/home/rey/Downloads/chromedriver'\n",
    "driver = webdriver.Chrome(executable_path=driver_path)\n",
    "directory = '/home/rey/coursework/ML/ML_clouds/get_data/images/cirrus_clouds'\n",
    "\n",
    "inp = 'cirrus clouds'\n",
    "url = 'https://www.google.com/search?q='+str(inp)+'&source=lnms&tbm=isch&sa=X&ved=2ahUKEwie44_AnqLpAhUhBWMBHUFGD90Q_AUoAXoECBUQAw&biw=1920&bih=947'\n",
    "iterate = 1\n",
    "\n",
    "path = \"/home/rey/coursework/ML/ML_clouds/get_data/images/cirrus_clouds/\"\n",
    "dirs = os.listdir( path )\n",
    "\n",
    "def resize(file):\n",
    "    if os.path.isfile(file):\n",
    "        print('yooo')\n",
    "        im = Image.open(file)\n",
    "        f, e = os.path.splitext(file)\n",
    "        imResize = im.resize((400,400), Image.ANTIALIAS)\n",
    "        imResize.save(f + '.jpg', 'JPEG', quality=90)\n",
    "\n",
    "def save_img(inp, img, i):\n",
    "    try:\n",
    "        filename = inp+str(i)+'.jpg'\n",
    "        filename = filename.replace(' ', '_')\n",
    "        image_path = os.path.join(directory, filename)\n",
    "        response = requests.get(img,stream=True)\n",
    "        image_path = os.path.join(directory, filename)\n",
    "        with open(image_path, 'wb') as file:\n",
    "            shutil.copyfileobj(response.raw, file)\n",
    "        print('image saved!')\n",
    "    except Exception as e:\n",
    "        print(e)\n",
    "        pass\n",
    "\n",
    "def find_urls(inp,url,driver,iterate):\n",
    "    driver.get(url)\n",
    "    time.sleep(3)\n",
    "    for j in range (1,iterate+1):\n",
    "        imgurl = driver.find_element_by_xpath('//div//div//div//div//div//div//div//div//div//div['+str(j)+']//a[1]//div[1]//img[1]')\n",
    "        imgurl.click()\n",
    "        time.sleep(5)\n",
    "        img = driver.find_element_by_xpath('//body/div[2]/c-wiz/div[3]/div[2]/div[3]/div/div/div[3]/div[2]/c-wiz/div[1]/div[1]/div/div[2]/a/img')        \n",
    "        img = img.get_attribute(\"src\")\n",
    "        save_img(inp, img, j)\n",
    "            \n",
    "find_urls(inp,url,driver,iterate)\n",
    "\n",
    "dirs = os.listdir( path )\n",
    "\n",
    "def resize():\n",
    "    for item in dirs:\n",
    "        if os.path.isfile(path+item):\n",
    "            im = Image.open(path+item)\n",
    "            f, e = os.path.splitext(path+item)\n",
    "            imResize = im.resize((400,400), Image.ANTIALIAS)\n",
    "            imResize.save(f + '.jpg', 'JPEG', quality=90)\n",
    "            \n",
    "resize()            \n"
   ]
  },
  {
   "cell_type": "code",
   "execution_count": 75,
   "metadata": {},
   "outputs": [
    {
     "name": "stdout",
     "output_type": "stream",
     "text": [
      "yooo\n",
      "yooo\n",
      "yooo\n",
      "yooo\n",
      "yooo\n",
      "yooo\n"
     ]
    }
   ],
   "source": [
    "from PIL import Image\n",
    "import os, sys\n",
    "\n",
    "path = \"/home/rey/coursework/ML/ML_clouds/get_data/images/cirrus_clouds/\"\n",
    "dirs = os.listdir( path )\n",
    "\n",
    "def resize():\n",
    "    for item in dirs:\n",
    "        if os.path.isfile(path+item):\n",
    "            im = Image.open(path+item)\n",
    "            f, e = os.path.splitext(path+item)\n",
    "            imResize = im.resize((400,400), Image.ANTIALIAS)\n",
    "            imResize.save(f + '.jpg', 'JPEG', quality=90)\n",
    "\n",
    "resize()"
   ]
  },
  {
   "cell_type": "code",
   "execution_count": null,
   "metadata": {},
   "outputs": [],
   "source": [
    "    try:\n",
    "        filename = inp+str(i)+'.jpg'\n",
    "        filename = filename.replace(' ', '_')\n",
    "        image_path = os.path.join(directory, filename)\n",
    "        response = requests.get(img,stream=True)\n",
    "        response.size\n",
    "        image_path = os.path.join(directory, filename)\n",
    "        with open(image_path, 'wb') as file:\n",
    "            shutil.copyfileobj(response.raw, file)\n",
    "        print('image saved!')\n",
    "        resize(file)\n",
    "    except Exception as e:\n",
    "        print(e)\n",
    "        pass"
   ]
  }
 ],
 "metadata": {
  "kernelspec": {
   "display_name": "Python 3",
   "language": "python",
   "name": "python3"
  },
  "language_info": {
   "codemirror_mode": {
    "name": "ipython",
    "version": 3
   },
   "file_extension": ".py",
   "mimetype": "text/x-python",
   "name": "python",
   "nbconvert_exporter": "python",
   "pygments_lexer": "ipython3",
   "version": "3.9.1"
  }
 },
 "nbformat": 4,
 "nbformat_minor": 4
}
